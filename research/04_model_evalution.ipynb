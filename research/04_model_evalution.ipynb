{
 "cells": [
  {
   "cell_type": "code",
   "execution_count": 1,
   "metadata": {},
   "outputs": [],
   "source": [
    "import os"
   ]
  },
  {
   "cell_type": "code",
   "execution_count": 2,
   "metadata": {},
   "outputs": [],
   "source": [
    "os.chdir(\"../\")"
   ]
  },
  {
   "cell_type": "code",
   "execution_count": 3,
   "metadata": {},
   "outputs": [
    {
     "data": {
      "text/plain": [
       "'/Users/Farook/breast-cancer-'"
      ]
     },
     "execution_count": 3,
     "metadata": {},
     "output_type": "execute_result"
    }
   ],
   "source": [
    "%pwd"
   ]
  },
  {
   "cell_type": "code",
   "execution_count": 4,
   "metadata": {},
   "outputs": [
    {
     "name": "stdout",
     "output_type": "stream",
     "text": [
      "Collecting dagshub\n",
      "  Downloading dagshub-0.3.35-py3-none-any.whl.metadata (11 kB)\n",
      "Requirement already satisfied: PyYAML>=5 in /Users/Farook/anaconda3/envs/gdi/lib/python3.12/site-packages (from dagshub) (6.0.1)\n",
      "Collecting fusepy>=3 (from dagshub)\n",
      "  Downloading fusepy-3.0.1.tar.gz (11 kB)\n",
      "  Preparing metadata (setup.py) ... \u001b[?25ldone\n",
      "\u001b[?25hRequirement already satisfied: appdirs>=1.4.4 in /Users/Farook/anaconda3/envs/gdi/lib/python3.12/site-packages (from dagshub) (1.4.4)\n",
      "Requirement already satisfied: click>=8.0.4 in /Users/Farook/anaconda3/envs/gdi/lib/python3.12/site-packages (from dagshub) (8.1.7)\n",
      "Collecting httpx~=0.23.0 (from dagshub)\n",
      "  Downloading httpx-0.23.3-py3-none-any.whl.metadata (7.1 kB)\n",
      "Requirement already satisfied: GitPython>=3.1.29 in /Users/Farook/anaconda3/envs/gdi/lib/python3.12/site-packages (from dagshub) (3.1.43)\n",
      "Collecting rich~=13.1.0 (from dagshub)\n",
      "  Downloading rich-13.1.0-py3-none-any.whl.metadata (18 kB)\n",
      "Collecting dacite~=1.6.0 (from dagshub)\n",
      "  Downloading dacite-1.6.0-py3-none-any.whl.metadata (14 kB)\n",
      "Collecting tenacity~=8.2.2 (from dagshub)\n",
      "  Downloading tenacity-8.2.3-py3-none-any.whl.metadata (1.0 kB)\n",
      "Collecting gql[requests] (from dagshub)\n",
      "  Downloading gql-3.5.0-py2.py3-none-any.whl.metadata (9.2 kB)\n",
      "Requirement already satisfied: dataclasses-json in /Users/Farook/anaconda3/envs/gdi/lib/python3.12/site-packages (from dagshub) (0.6.7)\n",
      "Requirement already satisfied: pandas in /Users/Farook/anaconda3/envs/gdi/lib/python3.12/site-packages (from dagshub) (2.2.2)\n",
      "Collecting treelib~=1.6.4 (from dagshub)\n",
      "  Downloading treelib-1.6.4-py3-none-any.whl.metadata (1.4 kB)\n",
      "Collecting pathvalidate~=3.0.0 (from dagshub)\n",
      "  Downloading pathvalidate-3.0.0-py3-none-any.whl.metadata (11 kB)\n",
      "Requirement already satisfied: python-dateutil in /Users/Farook/anaconda3/envs/gdi/lib/python3.12/site-packages (from dagshub) (2.9.0.post0)\n",
      "Collecting boto3 (from dagshub)\n",
      "  Downloading boto3-1.35.10-py3-none-any.whl.metadata (6.6 kB)\n",
      "Collecting dagshub-annotation-converter>=0.1.0 (from dagshub)\n",
      "  Downloading dagshub_annotation_converter-0.1.0-py3-none-any.whl.metadata (2.5 kB)\n",
      "Requirement already satisfied: lxml in /Users/Farook/anaconda3/envs/gdi/lib/python3.12/site-packages (from dagshub-annotation-converter>=0.1.0->dagshub) (5.3.0)\n",
      "Requirement already satisfied: pillow in /Users/Farook/anaconda3/envs/gdi/lib/python3.12/site-packages (from dagshub-annotation-converter>=0.1.0->dagshub) (10.3.0)\n",
      "Requirement already satisfied: pydantic>=2.0.0 in /Users/Farook/anaconda3/envs/gdi/lib/python3.12/site-packages (from dagshub-annotation-converter>=0.1.0->dagshub) (2.8.2)\n",
      "Requirement already satisfied: typing-extensions in /Users/Farook/anaconda3/envs/gdi/lib/python3.12/site-packages (from dagshub-annotation-converter>=0.1.0->dagshub) (4.12.2)\n",
      "Requirement already satisfied: gitdb<5,>=4.0.1 in /Users/Farook/anaconda3/envs/gdi/lib/python3.12/site-packages (from GitPython>=3.1.29->dagshub) (4.0.11)\n",
      "Requirement already satisfied: certifi in /Users/Farook/anaconda3/envs/gdi/lib/python3.12/site-packages (from httpx~=0.23.0->dagshub) (2024.6.2)\n",
      "Collecting httpcore<0.17.0,>=0.15.0 (from httpx~=0.23.0->dagshub)\n",
      "  Downloading httpcore-0.16.3-py3-none-any.whl.metadata (16 kB)\n",
      "Collecting rfc3986<2,>=1.3 (from rfc3986[idna2008]<2,>=1.3->httpx~=0.23.0->dagshub)\n",
      "  Downloading rfc3986-1.5.0-py2.py3-none-any.whl.metadata (6.5 kB)\n",
      "Requirement already satisfied: sniffio in /Users/Farook/anaconda3/envs/gdi/lib/python3.12/site-packages (from httpx~=0.23.0->dagshub) (1.3.1)\n",
      "Collecting commonmark<0.10.0,>=0.9.0 (from rich~=13.1.0->dagshub)\n",
      "  Downloading commonmark-0.9.1-py2.py3-none-any.whl.metadata (5.7 kB)\n",
      "Requirement already satisfied: pygments<3.0.0,>=2.6.0 in /Users/Farook/anaconda3/envs/gdi/lib/python3.12/site-packages (from rich~=13.1.0->dagshub) (2.18.0)\n",
      "Requirement already satisfied: six in /Users/Farook/anaconda3/envs/gdi/lib/python3.12/site-packages (from treelib~=1.6.4->dagshub) (1.16.0)\n",
      "Collecting botocore<1.36.0,>=1.35.10 (from boto3->dagshub)\n",
      "  Downloading botocore-1.35.10-py3-none-any.whl.metadata (5.7 kB)\n",
      "Collecting jmespath<2.0.0,>=0.7.1 (from boto3->dagshub)\n",
      "  Using cached jmespath-1.0.1-py3-none-any.whl.metadata (7.6 kB)\n",
      "Collecting s3transfer<0.11.0,>=0.10.0 (from boto3->dagshub)\n",
      "  Using cached s3transfer-0.10.2-py3-none-any.whl.metadata (1.7 kB)\n",
      "Requirement already satisfied: marshmallow<4.0.0,>=3.18.0 in /Users/Farook/anaconda3/envs/gdi/lib/python3.12/site-packages (from dataclasses-json->dagshub) (3.21.3)\n",
      "Requirement already satisfied: typing-inspect<1,>=0.4.0 in /Users/Farook/anaconda3/envs/gdi/lib/python3.12/site-packages (from dataclasses-json->dagshub) (0.9.0)\n",
      "Requirement already satisfied: graphql-core<3.3,>=3.2 in /Users/Farook/anaconda3/envs/gdi/lib/python3.12/site-packages (from gql[requests]->dagshub) (3.2.3)\n",
      "Requirement already satisfied: yarl<2.0,>=1.6 in /Users/Farook/anaconda3/envs/gdi/lib/python3.12/site-packages (from gql[requests]->dagshub) (1.9.4)\n",
      "Requirement already satisfied: backoff<3.0,>=1.11.1 in /Users/Farook/anaconda3/envs/gdi/lib/python3.12/site-packages (from gql[requests]->dagshub) (2.2.1)\n",
      "Requirement already satisfied: anyio<5,>=3.0 in /Users/Farook/anaconda3/envs/gdi/lib/python3.12/site-packages (from gql[requests]->dagshub) (3.7.1)\n",
      "Requirement already satisfied: requests<3,>=2.26 in /Users/Farook/anaconda3/envs/gdi/lib/python3.12/site-packages (from gql[requests]->dagshub) (2.32.3)\n",
      "Requirement already satisfied: requests-toolbelt<2,>=1.0.0 in /Users/Farook/anaconda3/envs/gdi/lib/python3.12/site-packages (from gql[requests]->dagshub) (1.0.0)\n",
      "Requirement already satisfied: numpy>=1.26.0 in /Users/Farook/anaconda3/envs/gdi/lib/python3.12/site-packages (from pandas->dagshub) (1.26.4)\n",
      "Requirement already satisfied: pytz>=2020.1 in /Users/Farook/anaconda3/envs/gdi/lib/python3.12/site-packages (from pandas->dagshub) (2024.1)\n",
      "Requirement already satisfied: tzdata>=2022.7 in /Users/Farook/anaconda3/envs/gdi/lib/python3.12/site-packages (from pandas->dagshub) (2024.1)\n",
      "Requirement already satisfied: idna>=2.8 in /Users/Farook/anaconda3/envs/gdi/lib/python3.12/site-packages (from anyio<5,>=3.0->gql[requests]->dagshub) (3.7)\n",
      "Requirement already satisfied: urllib3!=2.2.0,<3,>=1.25.4 in /Users/Farook/anaconda3/envs/gdi/lib/python3.12/site-packages (from botocore<1.36.0,>=1.35.10->boto3->dagshub) (2.2.2)\n",
      "Requirement already satisfied: smmap<6,>=3.0.1 in /Users/Farook/anaconda3/envs/gdi/lib/python3.12/site-packages (from gitdb<5,>=4.0.1->GitPython>=3.1.29->dagshub) (5.0.1)\n",
      "Requirement already satisfied: h11<0.15,>=0.13 in /Users/Farook/anaconda3/envs/gdi/lib/python3.12/site-packages (from httpcore<0.17.0,>=0.15.0->httpx~=0.23.0->dagshub) (0.14.0)\n",
      "Requirement already satisfied: packaging>=17.0 in /Users/Farook/anaconda3/envs/gdi/lib/python3.12/site-packages (from marshmallow<4.0.0,>=3.18.0->dataclasses-json->dagshub) (24.1)\n",
      "Requirement already satisfied: annotated-types>=0.4.0 in /Users/Farook/anaconda3/envs/gdi/lib/python3.12/site-packages (from pydantic>=2.0.0->dagshub-annotation-converter>=0.1.0->dagshub) (0.7.0)\n",
      "Requirement already satisfied: pydantic-core==2.20.1 in /Users/Farook/anaconda3/envs/gdi/lib/python3.12/site-packages (from pydantic>=2.0.0->dagshub-annotation-converter>=0.1.0->dagshub) (2.20.1)\n",
      "Requirement already satisfied: charset-normalizer<4,>=2 in /Users/Farook/anaconda3/envs/gdi/lib/python3.12/site-packages (from requests<3,>=2.26->gql[requests]->dagshub) (3.3.2)\n",
      "Requirement already satisfied: mypy-extensions>=0.3.0 in /Users/Farook/anaconda3/envs/gdi/lib/python3.12/site-packages (from typing-inspect<1,>=0.4.0->dataclasses-json->dagshub) (1.0.0)\n",
      "Requirement already satisfied: multidict>=4.0 in /Users/Farook/anaconda3/envs/gdi/lib/python3.12/site-packages (from yarl<2.0,>=1.6->gql[requests]->dagshub) (6.0.5)\n",
      "Downloading dagshub-0.3.35-py3-none-any.whl (247 kB)\n",
      "Downloading dacite-1.6.0-py3-none-any.whl (12 kB)\n",
      "Downloading dagshub_annotation_converter-0.1.0-py3-none-any.whl (30 kB)\n",
      "Downloading httpx-0.23.3-py3-none-any.whl (71 kB)\n",
      "Downloading pathvalidate-3.0.0-py3-none-any.whl (21 kB)\n",
      "Downloading rich-13.1.0-py3-none-any.whl (238 kB)\n",
      "Downloading tenacity-8.2.3-py3-none-any.whl (24 kB)\n",
      "Downloading treelib-1.6.4-py3-none-any.whl (18 kB)\n",
      "Downloading boto3-1.35.10-py3-none-any.whl (139 kB)\n",
      "Downloading botocore-1.35.10-py3-none-any.whl (12.5 MB)\n",
      "\u001b[2K   \u001b[90m━━━━━━━━━━━━━━━━━━━━━━━━━━━━━━━━━━━━━━━━\u001b[0m \u001b[32m12.5/12.5 MB\u001b[0m \u001b[31m3.0 MB/s\u001b[0m eta \u001b[36m0:00:00\u001b[0m00:01\u001b[0m00:01\u001b[0m\n",
      "\u001b[?25hDownloading commonmark-0.9.1-py2.py3-none-any.whl (51 kB)\n",
      "Downloading httpcore-0.16.3-py3-none-any.whl (69 kB)\n",
      "Using cached jmespath-1.0.1-py3-none-any.whl (20 kB)\n",
      "Downloading rfc3986-1.5.0-py2.py3-none-any.whl (31 kB)\n",
      "Using cached s3transfer-0.10.2-py3-none-any.whl (82 kB)\n",
      "Downloading gql-3.5.0-py2.py3-none-any.whl (74 kB)\n",
      "Building wheels for collected packages: fusepy\n",
      "  Building wheel for fusepy (setup.py) ... \u001b[?25ldone\n",
      "\u001b[?25h  Created wheel for fusepy: filename=fusepy-3.0.1-py3-none-any.whl size=10486 sha256=c7d1a75a5556b389f3fe907011f68d861f148afd44cca60331bb10265c4234a2\n",
      "  Stored in directory: /Users/Farook/Library/Caches/pip/wheels/96/e4/a1/c2ff90a4d140b39eb2af34232c5fce1b59641e9da39d13ce75\n",
      "Successfully built fusepy\n",
      "Installing collected packages: rfc3986, fusepy, commonmark, treelib, tenacity, rich, pathvalidate, jmespath, dacite, httpcore, gql, botocore, s3transfer, httpx, dagshub-annotation-converter, boto3, dagshub\n",
      "  Attempting uninstall: tenacity\n",
      "    Found existing installation: tenacity 8.5.0\n",
      "    Uninstalling tenacity-8.5.0:\n",
      "      Successfully uninstalled tenacity-8.5.0\n",
      "  Attempting uninstall: rich\n",
      "    Found existing installation: rich 13.7.1\n",
      "    Uninstalling rich-13.7.1:\n",
      "      Successfully uninstalled rich-13.7.1\n",
      "  Attempting uninstall: httpcore\n",
      "    Found existing installation: httpcore 1.0.5\n",
      "    Uninstalling httpcore-1.0.5:\n",
      "      Successfully uninstalled httpcore-1.0.5\n",
      "  Attempting uninstall: httpx\n",
      "    Found existing installation: httpx 0.27.0\n",
      "    Uninstalling httpx-0.27.0:\n",
      "      Successfully uninstalled httpx-0.27.0\n",
      "\u001b[31mERROR: pip's dependency resolver does not currently take into account all the packages that are installed. This behaviour is the source of the following dependency conflicts.\n",
      "jupyterlab 4.2.4 requires httpx>=0.25.0, but you have httpx 0.23.3 which is incompatible.\n",
      "unstructured-client 0.25.5 requires httpx>=0.27.0, but you have httpx 0.23.3 which is incompatible.\n",
      "chromadb 0.5.3 requires httpx>=0.27.0, but you have httpx 0.23.3 which is incompatible.\u001b[0m\u001b[31m\n",
      "\u001b[0mSuccessfully installed boto3-1.35.10 botocore-1.35.10 commonmark-0.9.1 dacite-1.6.0 dagshub-0.3.35 dagshub-annotation-converter-0.1.0 fusepy-3.0.1 gql-3.5.0 httpcore-0.16.3 httpx-0.23.3 jmespath-1.0.1 pathvalidate-3.0.0 rfc3986-1.5.0 rich-13.1.0 s3transfer-0.10.2 tenacity-8.2.3 treelib-1.6.4\n"
     ]
    }
   ],
   "source": [
    "!pip install dagshub"
   ]
  },
  {
   "cell_type": "code",
   "execution_count": 14,
   "metadata": {},
   "outputs": [
    {
     "data": {
      "text/html": [
       "<pre style=\"white-space:pre;overflow-x:auto;line-height:normal;font-family:Menlo,'DejaVu Sans Mono',consolas,'Courier New',monospace\">Initialized MLflow to track repo <span style=\"color: #008000; text-decoration-color: #008000\">\"furiousbird8/breast-cancer-\"</span>\n",
       "</pre>\n"
      ],
      "text/plain": [
       "Initialized MLflow to track repo \u001b[32m\"furiousbird8/breast-cancer-\"\u001b[0m\n"
      ]
     },
     "metadata": {},
     "output_type": "display_data"
    },
    {
     "data": {
      "text/html": [
       "<pre style=\"white-space:pre;overflow-x:auto;line-height:normal;font-family:Menlo,'DejaVu Sans Mono',consolas,'Courier New',monospace\">Repository furiousbird8/breast-cancer- initialized!\n",
       "</pre>\n"
      ],
      "text/plain": [
       "Repository furiousbird8/breast-cancer- initialized!\n"
      ]
     },
     "metadata": {},
     "output_type": "display_data"
    },
    {
     "name": "stderr",
     "output_type": "stream",
     "text": [
      "WARNING:urllib3.connectionpool:Retrying (Retry(total=4, connect=5, read=4, redirect=5, status=5)) after connection broken by 'RemoteDisconnected('Remote end closed connection without response')': /furiousbird8/breast-cancer-.mlflow/api/2.0/mlflow/runs/create\n",
      "2024/09/03 16:22:00 INFO mlflow.tracking._tracking_service.client: 🏃 View run secretive-grub-819 at: https://dagshub.com/furiousbird8/breast-cancer-.mlflow/#/experiments/0/runs/f6974474a35b4f679266308d71cb185b.\n",
      "2024/09/03 16:22:00 INFO mlflow.tracking._tracking_service.client: 🧪 View experiment at: https://dagshub.com/furiousbird8/breast-cancer-.mlflow/#/experiments/0.\n"
     ]
    }
   ],
   "source": [
    "import dagshub\n",
    "dagshub.init(repo_owner='furiousbird8', repo_name='breast-cancer-', mlflow=True)\n",
    "\n",
    "import mlflow\n",
    "with mlflow.start_run():\n",
    "  mlflow.log_param('parameter name', 'value')\n",
    "  mlflow.log_metric('metric name', 1)"
   ]
  },
  {
   "cell_type": "code",
   "execution_count": 22,
   "metadata": {},
   "outputs": [
    {
     "name": "stderr",
     "output_type": "stream",
     "text": [
      "WARNING:absl:Compiled the loaded model, but the compiled metrics have yet to be built. `model.compile_metrics` will be empty until you train or evaluate the model.\n"
     ]
    }
   ],
   "source": [
    "import tensorflow as tf\n",
    "model= tf.keras.models.load_model(\"artifacts/training/model.h5\")"
   ]
  },
  {
   "cell_type": "code",
   "execution_count": 29,
   "metadata": {},
   "outputs": [],
   "source": [
    "from dataclasses import dataclass\n",
    "from pathlib import Path\n",
    "@dataclass(frozen=True)\n",
    "class EvaluationConfig:\n",
    "    path_of_model: Path\n",
    "    training_data: Path\n",
    "    all_params: dict\n",
    "    mlflow_uri: str\n",
    "    params_image_size: list\n",
    "    params_batch_size: int\n"
   ]
  },
  {
   "cell_type": "code",
   "execution_count": 30,
   "metadata": {},
   "outputs": [],
   "source": [
    "from breast.constants import *\n",
    "from breast.utils.common import read_yaml, create_directories, save_json"
   ]
  },
  {
   "cell_type": "code",
   "execution_count": 31,
   "metadata": {},
   "outputs": [],
   "source": [
    "class ConfigurationManager:\n",
    "    def __init__(\n",
    "        self, \n",
    "        config_filepath = CONFIG_FILE_PATH,\n",
    "        params_filepath = PARAMS_FILE_PATH):\n",
    "        self.config = read_yaml(config_filepath)\n",
    "        self.params = read_yaml(params_filepath)\n",
    "        create_directories([self.config.artifacts_root])\n",
    "\n",
    "    \n",
    "    def get_evaluation_config(self) -> EvaluationConfig:\n",
    "        eval_config = EvaluationConfig(\n",
    "        path_of_model=\"artifacts/training/model.h5\",\n",
    "        training_data=\"artifacts/data_ingestion/Data\",\n",
    "        mlflow_uri=\"https://dagshub.com/furiousbird8/breast-cancer-.mlflow\",\n",
    "        all_params=self.params,\n",
    "        params_image_size=self.params.IMAGE_SIZE,\n",
    "        params_batch_size=self.params.BATCH_SIZE\n",
    "        )\n",
    "        \n",
    "        return eval_config"
   ]
  },
  {
   "cell_type": "code",
   "execution_count": 32,
   "metadata": {},
   "outputs": [],
   "source": [
    "import tensorflow as tf\n",
    "from pathlib import Path\n",
    "import mlflow\n",
    "import mlflow.keras\n",
    "from urllib.parse import urlparse"
   ]
  },
  {
   "cell_type": "code",
   "execution_count": 33,
   "metadata": {},
   "outputs": [],
   "source": [
    "class Evaluation:\n",
    "    def __init__(self, config: EvaluationConfig):\n",
    "        self.config = config\n",
    "\n",
    "    \n",
    "    def _valid_generator(self):\n",
    "\n",
    "        datagenerator_kwargs = dict(\n",
    "            rescale = 1./255,\n",
    "            validation_split=0.30\n",
    "        )\n",
    "\n",
    "        dataflow_kwargs = dict(\n",
    "            target_size=self.config.params_image_size[:-1],\n",
    "            batch_size=self.config.params_batch_size,\n",
    "            interpolation=\"bilinear\"\n",
    "        )\n",
    "\n",
    "        valid_datagenerator = tf.keras.preprocessing.image.ImageDataGenerator(\n",
    "            **datagenerator_kwargs\n",
    "        )\n",
    "\n",
    "        self.valid_generator = valid_datagenerator.flow_from_directory(\n",
    "            directory=self.config.training_data,\n",
    "            subset=\"validation\",\n",
    "            shuffle=False,\n",
    "            **dataflow_kwargs\n",
    "        )\n",
    "\n",
    "\n",
    "    @staticmethod\n",
    "    def load_model(path: Path) -> tf.keras.Model:\n",
    "        return tf.keras.models.load_model(path)\n",
    "    \n",
    "\n",
    "    def evaluation(self):\n",
    "        self.model = self.load_model(self.config.path_of_model)\n",
    "        self._valid_generator()\n",
    "        self.score = model.evaluate(self.valid_generator)\n",
    "        self.save_score()\n",
    "\n",
    "    def save_score(self):\n",
    "        scores = {\"loss\": self.score[0], \"accuracy\": self.score[1]}\n",
    "        save_json(path=Path(\"scores.json\"), data=scores)\n",
    "\n",
    "    \n",
    "    def log_into_mlflow(self):\n",
    "        mlflow.set_registry_uri(self.config.mlflow_uri)\n",
    "        tracking_url_type_store = urlparse(mlflow.get_tracking_uri()).scheme\n",
    "        \n",
    "        with mlflow.start_run():\n",
    "            mlflow.log_params(self.config.all_params)\n",
    "            mlflow.log_metrics(\n",
    "                {\"loss\": self.score[0], \"accuracy\": self.score[1]}\n",
    "            )\n",
    "            # Model registry does not work with file store\n",
    "            if tracking_url_type_store != \"file\":\n",
    "\n",
    "                # Register the model\n",
    "                # There are other ways to use the Model Registry, which depends on the use case,\n",
    "                # please refer to the doc for more information:\n",
    "                # https://mlflow.org/docs/latest/model-registry.html#api-workflow\n",
    "                mlflow.keras.log_model(self.model, \"model\", registered_model_name=\"VGG16Model\")\n",
    "            else:\n",
    "                mlflow.keras.log_model(self.model, \"model\")"
   ]
  },
  {
   "cell_type": "code",
   "execution_count": 34,
   "metadata": {},
   "outputs": [
    {
     "name": "stderr",
     "output_type": "stream",
     "text": [
      "WARNING:absl:Compiled the loaded model, but the compiled metrics have yet to be built. `model.compile_metrics` will be empty until you train or evaluate the model.\n"
     ]
    },
    {
     "name": "stdout",
     "output_type": "stream",
     "text": [
      "Found 298 images belonging to 3 classes.\n",
      "\u001b[1m13/13\u001b[0m \u001b[32m━━━━━━━━━━━━━━━━━━━━\u001b[0m\u001b[37m\u001b[0m \u001b[1m122s\u001b[0m 9s/step - accuracy: 0.9004 - loss: 0.3674\n"
     ]
    },
    {
     "name": "stderr",
     "output_type": "stream",
     "text": [
      "WARNING:urllib3.connectionpool:Retrying (Retry(total=4, connect=5, read=4, redirect=5, status=5)) after connection broken by 'RemoteDisconnected('Remote end closed connection without response')': /furiousbird8/breast-cancer-.mlflow/api/2.0/mlflow/runs/create\n",
      "2024/09/03 17:22:49 WARNING mlflow.keras.save: You are saving a Keras model without specifying model signature.\n",
      "2024/09/03 17:23:02 WARNING mlflow.models.model: Model logged without a signature and input example. Please set `input_example` parameter when logging the model to auto infer the model signature.\n",
      "Registered model 'VGG16Model' already exists. Creating a new version of this model...\n",
      "2024/09/03 17:23:34 INFO mlflow.store.model_registry.abstract_store: Waiting up to 300 seconds for model version to finish creation. Model name: VGG16Model, version 3\n",
      "Created version '3' of model 'VGG16Model'.\n",
      "2024/09/03 17:23:34 INFO mlflow.tracking._tracking_service.client: 🏃 View run abundant-roo-900 at: https://dagshub.com/furiousbird8/breast-cancer-.mlflow/#/experiments/0/runs/b85e71f49b054a56b935b6cc9b1cf34d.\n",
      "2024/09/03 17:23:34 INFO mlflow.tracking._tracking_service.client: 🧪 View experiment at: https://dagshub.com/furiousbird8/breast-cancer-.mlflow/#/experiments/0.\n"
     ]
    }
   ],
   "source": [
    "try:\n",
    "    config = ConfigurationManager()\n",
    "    eval_config = config.get_evaluation_config()\n",
    "    evaluation = Evaluation(eval_config)\n",
    "    evaluation.evaluation()\n",
    "    evaluation.log_into_mlflow()\n",
    "\n",
    "except Exception as e:\n",
    "   raise e"
   ]
  },
  {
   "cell_type": "code",
   "execution_count": null,
   "metadata": {},
   "outputs": [],
   "source": []
  }
 ],
 "metadata": {
  "kernelspec": {
   "display_name": "gdi",
   "language": "python",
   "name": "python3"
  },
  "language_info": {
   "codemirror_mode": {
    "name": "ipython",
    "version": 3
   },
   "file_extension": ".py",
   "mimetype": "text/x-python",
   "name": "python",
   "nbconvert_exporter": "python",
   "pygments_lexer": "ipython3",
   "version": "3.12.4"
  }
 },
 "nbformat": 4,
 "nbformat_minor": 2
}
